{
 "cells": [
  {
   "cell_type": "markdown",
   "metadata": {
    "id": "cO2WajVOV48k"
   },
   "source": [
    "Loading the Dataset"
   ]
  },
  {
   "cell_type": "code",
   "execution_count": 1,
   "metadata": {
    "colab": {
     "base_uri": "https://localhost:8080/"
    },
    "id": "t9w6wwrxT44k",
    "outputId": "b3674fdb-70c0-447d-b05d-86f4f3a0eb56"
   },
   "outputs": [],
   "source": [
    "import pandas as pd\n",
    "import numpy as np\n",
    "from pandas import read_csv\n",
    "import numpy as np\n",
    "import math\n",
    "import matplotlib.pyplot as plt\n"
   ]
  },
  {
   "cell_type": "code",
   "execution_count": 2,
   "metadata": {
    "id": "EoHjAK9UVBia"
   },
   "outputs": [],
   "source": [
    "ddf=pd.read_csv(\"train_0OECtn8.csv\")\n",
    "ddf1=pd.read_csv(\"test-1.csv\")\n",
    "ddf2=pd.read_csv('sample_submission_JPlpRcN.csv')"
   ]
  },
  {
   "cell_type": "code",
   "execution_count": 3,
   "metadata": {
    "colab": {
     "base_uri": "https://localhost:8080/",
     "height": 206
    },
    "id": "EWSp1IfSVdOi",
    "outputId": "32111daa-f3e7-49e9-f0a3-6931f7fe643e"
   },
   "outputs": [
    {
     "data": {
      "text/html": [
       "<div>\n",
       "<style scoped>\n",
       "    .dataframe tbody tr th:only-of-type {\n",
       "        vertical-align: middle;\n",
       "    }\n",
       "\n",
       "    .dataframe tbody tr th {\n",
       "        vertical-align: top;\n",
       "    }\n",
       "\n",
       "    .dataframe thead th {\n",
       "        text-align: right;\n",
       "    }\n",
       "</style>\n",
       "<table border=\"1\" class=\"dataframe\">\n",
       "  <thead>\n",
       "    <tr style=\"text-align: right;\">\n",
       "      <th></th>\n",
       "      <th>row_id</th>\n",
       "      <th>user_id</th>\n",
       "      <th>category_id</th>\n",
       "      <th>video_id</th>\n",
       "      <th>age</th>\n",
       "      <th>gender</th>\n",
       "      <th>profession</th>\n",
       "      <th>followers</th>\n",
       "      <th>views</th>\n",
       "      <th>engagement_score</th>\n",
       "    </tr>\n",
       "  </thead>\n",
       "  <tbody>\n",
       "    <tr>\n",
       "      <th>0</th>\n",
       "      <td>1</td>\n",
       "      <td>19990</td>\n",
       "      <td>37</td>\n",
       "      <td>128</td>\n",
       "      <td>24</td>\n",
       "      <td>Male</td>\n",
       "      <td>Student</td>\n",
       "      <td>180</td>\n",
       "      <td>1000</td>\n",
       "      <td>4.33</td>\n",
       "    </tr>\n",
       "    <tr>\n",
       "      <th>1</th>\n",
       "      <td>2</td>\n",
       "      <td>5304</td>\n",
       "      <td>32</td>\n",
       "      <td>132</td>\n",
       "      <td>14</td>\n",
       "      <td>Female</td>\n",
       "      <td>Student</td>\n",
       "      <td>330</td>\n",
       "      <td>714</td>\n",
       "      <td>1.79</td>\n",
       "    </tr>\n",
       "    <tr>\n",
       "      <th>2</th>\n",
       "      <td>3</td>\n",
       "      <td>1840</td>\n",
       "      <td>12</td>\n",
       "      <td>24</td>\n",
       "      <td>19</td>\n",
       "      <td>Male</td>\n",
       "      <td>Student</td>\n",
       "      <td>180</td>\n",
       "      <td>138</td>\n",
       "      <td>4.35</td>\n",
       "    </tr>\n",
       "    <tr>\n",
       "      <th>3</th>\n",
       "      <td>4</td>\n",
       "      <td>12597</td>\n",
       "      <td>23</td>\n",
       "      <td>112</td>\n",
       "      <td>19</td>\n",
       "      <td>Male</td>\n",
       "      <td>Student</td>\n",
       "      <td>220</td>\n",
       "      <td>613</td>\n",
       "      <td>3.77</td>\n",
       "    </tr>\n",
       "    <tr>\n",
       "      <th>4</th>\n",
       "      <td>5</td>\n",
       "      <td>13626</td>\n",
       "      <td>23</td>\n",
       "      <td>112</td>\n",
       "      <td>27</td>\n",
       "      <td>Male</td>\n",
       "      <td>Working Professional</td>\n",
       "      <td>220</td>\n",
       "      <td>613</td>\n",
       "      <td>3.13</td>\n",
       "    </tr>\n",
       "  </tbody>\n",
       "</table>\n",
       "</div>"
      ],
      "text/plain": [
       "   row_id  user_id  category_id  video_id  age  gender            profession  \\\n",
       "0       1    19990           37       128   24    Male               Student   \n",
       "1       2     5304           32       132   14  Female               Student   \n",
       "2       3     1840           12        24   19    Male               Student   \n",
       "3       4    12597           23       112   19    Male               Student   \n",
       "4       5    13626           23       112   27    Male  Working Professional   \n",
       "\n",
       "   followers  views  engagement_score  \n",
       "0        180   1000              4.33  \n",
       "1        330    714              1.79  \n",
       "2        180    138              4.35  \n",
       "3        220    613              3.77  \n",
       "4        220    613              3.13  "
      ]
     },
     "execution_count": 3,
     "metadata": {},
     "output_type": "execute_result"
    }
   ],
   "source": [
    "ddf.head()"
   ]
  },
  {
   "cell_type": "code",
   "execution_count": 4,
   "metadata": {
    "colab": {
     "base_uri": "https://localhost:8080/",
     "height": 206
    },
    "id": "3us0W5OLVhe3",
    "outputId": "58ce9e15-3c13-4beb-ac07-686a3d5bdcc6"
   },
   "outputs": [
    {
     "data": {
      "text/html": [
       "<div>\n",
       "<style scoped>\n",
       "    .dataframe tbody tr th:only-of-type {\n",
       "        vertical-align: middle;\n",
       "    }\n",
       "\n",
       "    .dataframe tbody tr th {\n",
       "        vertical-align: top;\n",
       "    }\n",
       "\n",
       "    .dataframe thead th {\n",
       "        text-align: right;\n",
       "    }\n",
       "</style>\n",
       "<table border=\"1\" class=\"dataframe\">\n",
       "  <thead>\n",
       "    <tr style=\"text-align: right;\">\n",
       "      <th></th>\n",
       "      <th>row_id</th>\n",
       "      <th>user_id</th>\n",
       "      <th>category_id</th>\n",
       "      <th>video_id</th>\n",
       "      <th>age</th>\n",
       "      <th>gender</th>\n",
       "      <th>profession</th>\n",
       "      <th>followers</th>\n",
       "      <th>views</th>\n",
       "    </tr>\n",
       "  </thead>\n",
       "  <tbody>\n",
       "    <tr>\n",
       "      <th>0</th>\n",
       "      <td>89198</td>\n",
       "      <td>7986</td>\n",
       "      <td>12</td>\n",
       "      <td>42</td>\n",
       "      <td>14</td>\n",
       "      <td>Male</td>\n",
       "      <td>Student</td>\n",
       "      <td>180</td>\n",
       "      <td>138</td>\n",
       "    </tr>\n",
       "    <tr>\n",
       "      <th>1</th>\n",
       "      <td>89199</td>\n",
       "      <td>11278</td>\n",
       "      <td>34</td>\n",
       "      <td>115</td>\n",
       "      <td>14</td>\n",
       "      <td>Male</td>\n",
       "      <td>Student</td>\n",
       "      <td>230</td>\n",
       "      <td>840</td>\n",
       "    </tr>\n",
       "    <tr>\n",
       "      <th>2</th>\n",
       "      <td>89200</td>\n",
       "      <td>17245</td>\n",
       "      <td>8</td>\n",
       "      <td>110</td>\n",
       "      <td>44</td>\n",
       "      <td>Female</td>\n",
       "      <td>Working Professional</td>\n",
       "      <td>280</td>\n",
       "      <td>628</td>\n",
       "    </tr>\n",
       "    <tr>\n",
       "      <th>3</th>\n",
       "      <td>89201</td>\n",
       "      <td>9851</td>\n",
       "      <td>16</td>\n",
       "      <td>137</td>\n",
       "      <td>18</td>\n",
       "      <td>Male</td>\n",
       "      <td>Student</td>\n",
       "      <td>270</td>\n",
       "      <td>462</td>\n",
       "    </tr>\n",
       "    <tr>\n",
       "      <th>4</th>\n",
       "      <td>89202</td>\n",
       "      <td>16008</td>\n",
       "      <td>34</td>\n",
       "      <td>96</td>\n",
       "      <td>47</td>\n",
       "      <td>Female</td>\n",
       "      <td>Other</td>\n",
       "      <td>230</td>\n",
       "      <td>840</td>\n",
       "    </tr>\n",
       "  </tbody>\n",
       "</table>\n",
       "</div>"
      ],
      "text/plain": [
       "   row_id  user_id  category_id  video_id  age  gender            profession  \\\n",
       "0   89198     7986           12        42   14    Male               Student   \n",
       "1   89199    11278           34       115   14    Male               Student   \n",
       "2   89200    17245            8       110   44  Female  Working Professional   \n",
       "3   89201     9851           16       137   18    Male               Student   \n",
       "4   89202    16008           34        96   47  Female                 Other   \n",
       "\n",
       "   followers  views  \n",
       "0        180    138  \n",
       "1        230    840  \n",
       "2        280    628  \n",
       "3        270    462  \n",
       "4        230    840  "
      ]
     },
     "execution_count": 4,
     "metadata": {},
     "output_type": "execute_result"
    }
   ],
   "source": [
    "ddf1.head()"
   ]
  },
  {
   "cell_type": "code",
   "execution_count": 45,
   "metadata": {
    "colab": {
     "base_uri": "https://localhost:8080/",
     "height": 206
    },
    "id": "wx6DXeufVhtq",
    "outputId": "3c9028f3-8a05-4de0-b4e9-7cf87a82130e"
   },
   "outputs": [
    {
     "data": {
      "text/html": [
       "<div>\n",
       "<style scoped>\n",
       "    .dataframe tbody tr th:only-of-type {\n",
       "        vertical-align: middle;\n",
       "    }\n",
       "\n",
       "    .dataframe tbody tr th {\n",
       "        vertical-align: top;\n",
       "    }\n",
       "\n",
       "    .dataframe thead th {\n",
       "        text-align: right;\n",
       "    }\n",
       "</style>\n",
       "<table border=\"1\" class=\"dataframe\">\n",
       "  <thead>\n",
       "    <tr style=\"text-align: right;\">\n",
       "      <th></th>\n",
       "      <th>row_id</th>\n",
       "      <th>engagement_score</th>\n",
       "    </tr>\n",
       "  </thead>\n",
       "  <tbody>\n",
       "    <tr>\n",
       "      <th>0</th>\n",
       "      <td>89198</td>\n",
       "      <td>5.0</td>\n",
       "    </tr>\n",
       "    <tr>\n",
       "      <th>1</th>\n",
       "      <td>89199</td>\n",
       "      <td>5.0</td>\n",
       "    </tr>\n",
       "    <tr>\n",
       "      <th>2</th>\n",
       "      <td>89200</td>\n",
       "      <td>5.0</td>\n",
       "    </tr>\n",
       "    <tr>\n",
       "      <th>3</th>\n",
       "      <td>89201</td>\n",
       "      <td>5.0</td>\n",
       "    </tr>\n",
       "    <tr>\n",
       "      <th>4</th>\n",
       "      <td>89202</td>\n",
       "      <td>5.0</td>\n",
       "    </tr>\n",
       "  </tbody>\n",
       "</table>\n",
       "</div>"
      ],
      "text/plain": [
       "   row_id  engagement_score\n",
       "0   89198               5.0\n",
       "1   89199               5.0\n",
       "2   89200               5.0\n",
       "3   89201               5.0\n",
       "4   89202               5.0"
      ]
     },
     "execution_count": 45,
     "metadata": {},
     "output_type": "execute_result"
    }
   ],
   "source": [
    "ddf2.head()"
   ]
  },
  {
   "cell_type": "markdown",
   "metadata": {
    "id": "o6_ah7S0Wznw"
   },
   "source": [
    "Checking Missing Values"
   ]
  },
  {
   "cell_type": "code",
   "execution_count": 46,
   "metadata": {
    "colab": {
     "base_uri": "https://localhost:8080/"
    },
    "id": "QcAJJ3rhWKiQ",
    "outputId": "ae79631c-4466-4d2a-a313-e19ce92e7c73"
   },
   "outputs": [
    {
     "data": {
      "text/plain": [
       "row_id              0\n",
       "user_id             0\n",
       "category_id         0\n",
       "age                 0\n",
       "gender              0\n",
       "profession          0\n",
       "followers           0\n",
       "views               0\n",
       "engagement_score    0\n",
       "dtype: int64"
      ]
     },
     "execution_count": 46,
     "metadata": {},
     "output_type": "execute_result"
    }
   ],
   "source": [
    "ddf.isnull().sum()"
   ]
  },
  {
   "cell_type": "code",
   "execution_count": 7,
   "metadata": {
    "colab": {
     "base_uri": "https://localhost:8080/"
    },
    "id": "WhVgJ8pgWKyu",
    "outputId": "cbdb3b7b-939a-4985-96f9-f29440f9a841"
   },
   "outputs": [
    {
     "data": {
      "text/plain": [
       "row_id         0\n",
       "user_id        0\n",
       "category_id    0\n",
       "video_id       0\n",
       "age            0\n",
       "gender         0\n",
       "profession     0\n",
       "followers      0\n",
       "views          0\n",
       "dtype: int64"
      ]
     },
     "execution_count": 7,
     "metadata": {},
     "output_type": "execute_result"
    }
   ],
   "source": [
    "ddf1.isnull().sum()"
   ]
  },
  {
   "cell_type": "markdown",
   "metadata": {
    "id": "Uh2QgmCYW6Kt"
   },
   "source": [
    "Converting Categorical Variables to Number"
   ]
  },
  {
   "cell_type": "code",
   "execution_count": 8,
   "metadata": {
    "colab": {
     "base_uri": "https://localhost:8080/"
    },
    "id": "CXpEZaBoWK9Z",
    "outputId": "321b6873-4a4b-41b2-d6b0-97fba3da0a08"
   },
   "outputs": [
    {
     "data": {
      "text/plain": [
       "row_id                int64\n",
       "user_id               int64\n",
       "category_id           int64\n",
       "video_id              int64\n",
       "age                   int64\n",
       "gender               object\n",
       "profession           object\n",
       "followers             int64\n",
       "views                 int64\n",
       "engagement_score    float64\n",
       "dtype: object"
      ]
     },
     "execution_count": 8,
     "metadata": {},
     "output_type": "execute_result"
    }
   ],
   "source": [
    "ddf.dtypes"
   ]
  },
  {
   "cell_type": "code",
   "execution_count": 9,
   "metadata": {
    "id": "C1NVNrqXWfaR"
   },
   "outputs": [],
   "source": [
    "from sklearn.preprocessing import LabelEncoder\n",
    "labelencoder = LabelEncoder()\n",
    "ddf['gender'] = labelencoder.fit_transform(ddf['gender'])\n",
    "ddf['profession'] = labelencoder.fit_transform(ddf['profession'])"
   ]
  },
  {
   "cell_type": "code",
   "execution_count": 47,
   "metadata": {
    "colab": {
     "base_uri": "https://localhost:8080/",
     "height": 206
    },
    "id": "MN4m5jdYWfmV",
    "outputId": "885717c3-942d-43b8-8836-24cbc2151c34"
   },
   "outputs": [
    {
     "data": {
      "text/html": [
       "<div>\n",
       "<style scoped>\n",
       "    .dataframe tbody tr th:only-of-type {\n",
       "        vertical-align: middle;\n",
       "    }\n",
       "\n",
       "    .dataframe tbody tr th {\n",
       "        vertical-align: top;\n",
       "    }\n",
       "\n",
       "    .dataframe thead th {\n",
       "        text-align: right;\n",
       "    }\n",
       "</style>\n",
       "<table border=\"1\" class=\"dataframe\">\n",
       "  <thead>\n",
       "    <tr style=\"text-align: right;\">\n",
       "      <th></th>\n",
       "      <th>row_id</th>\n",
       "      <th>user_id</th>\n",
       "      <th>category_id</th>\n",
       "      <th>age</th>\n",
       "      <th>gender</th>\n",
       "      <th>profession</th>\n",
       "      <th>followers</th>\n",
       "      <th>views</th>\n",
       "      <th>engagement_score</th>\n",
       "    </tr>\n",
       "  </thead>\n",
       "  <tbody>\n",
       "    <tr>\n",
       "      <th>0</th>\n",
       "      <td>1</td>\n",
       "      <td>19990</td>\n",
       "      <td>37</td>\n",
       "      <td>24</td>\n",
       "      <td>1</td>\n",
       "      <td>1</td>\n",
       "      <td>180</td>\n",
       "      <td>1000</td>\n",
       "      <td>4.33</td>\n",
       "    </tr>\n",
       "    <tr>\n",
       "      <th>1</th>\n",
       "      <td>2</td>\n",
       "      <td>5304</td>\n",
       "      <td>32</td>\n",
       "      <td>14</td>\n",
       "      <td>0</td>\n",
       "      <td>1</td>\n",
       "      <td>330</td>\n",
       "      <td>714</td>\n",
       "      <td>1.79</td>\n",
       "    </tr>\n",
       "    <tr>\n",
       "      <th>2</th>\n",
       "      <td>3</td>\n",
       "      <td>1840</td>\n",
       "      <td>12</td>\n",
       "      <td>19</td>\n",
       "      <td>1</td>\n",
       "      <td>1</td>\n",
       "      <td>180</td>\n",
       "      <td>138</td>\n",
       "      <td>4.35</td>\n",
       "    </tr>\n",
       "    <tr>\n",
       "      <th>3</th>\n",
       "      <td>4</td>\n",
       "      <td>12597</td>\n",
       "      <td>23</td>\n",
       "      <td>19</td>\n",
       "      <td>1</td>\n",
       "      <td>1</td>\n",
       "      <td>220</td>\n",
       "      <td>613</td>\n",
       "      <td>3.77</td>\n",
       "    </tr>\n",
       "    <tr>\n",
       "      <th>4</th>\n",
       "      <td>5</td>\n",
       "      <td>13626</td>\n",
       "      <td>23</td>\n",
       "      <td>27</td>\n",
       "      <td>1</td>\n",
       "      <td>2</td>\n",
       "      <td>220</td>\n",
       "      <td>613</td>\n",
       "      <td>3.13</td>\n",
       "    </tr>\n",
       "  </tbody>\n",
       "</table>\n",
       "</div>"
      ],
      "text/plain": [
       "   row_id  user_id  category_id  age  gender  profession  followers  views  \\\n",
       "0       1    19990           37   24       1           1        180   1000   \n",
       "1       2     5304           32   14       0           1        330    714   \n",
       "2       3     1840           12   19       1           1        180    138   \n",
       "3       4    12597           23   19       1           1        220    613   \n",
       "4       5    13626           23   27       1           2        220    613   \n",
       "\n",
       "   engagement_score  \n",
       "0              4.33  \n",
       "1              1.79  \n",
       "2              4.35  \n",
       "3              3.77  \n",
       "4              3.13  "
      ]
     },
     "execution_count": 47,
     "metadata": {},
     "output_type": "execute_result"
    }
   ],
   "source": [
    "ddf.head()"
   ]
  },
  {
   "cell_type": "code",
   "execution_count": 11,
   "metadata": {
    "id": "U5nNdjWyWfwT"
   },
   "outputs": [],
   "source": [
    "ddf1['gender'] = labelencoder.fit_transform(ddf1['gender'])\n",
    "ddf1['profession'] = labelencoder.fit_transform(ddf1['profession'])"
   ]
  },
  {
   "cell_type": "code",
   "execution_count": 12,
   "metadata": {
    "colab": {
     "base_uri": "https://localhost:8080/",
     "height": 206
    },
    "id": "hhSmow2gWf6A",
    "outputId": "5b5801d1-02b1-493a-ec36-4f1797b9f9a1"
   },
   "outputs": [
    {
     "data": {
      "text/html": [
       "<div>\n",
       "<style scoped>\n",
       "    .dataframe tbody tr th:only-of-type {\n",
       "        vertical-align: middle;\n",
       "    }\n",
       "\n",
       "    .dataframe tbody tr th {\n",
       "        vertical-align: top;\n",
       "    }\n",
       "\n",
       "    .dataframe thead th {\n",
       "        text-align: right;\n",
       "    }\n",
       "</style>\n",
       "<table border=\"1\" class=\"dataframe\">\n",
       "  <thead>\n",
       "    <tr style=\"text-align: right;\">\n",
       "      <th></th>\n",
       "      <th>row_id</th>\n",
       "      <th>user_id</th>\n",
       "      <th>category_id</th>\n",
       "      <th>video_id</th>\n",
       "      <th>age</th>\n",
       "      <th>gender</th>\n",
       "      <th>profession</th>\n",
       "      <th>followers</th>\n",
       "      <th>views</th>\n",
       "    </tr>\n",
       "  </thead>\n",
       "  <tbody>\n",
       "    <tr>\n",
       "      <th>0</th>\n",
       "      <td>89198</td>\n",
       "      <td>7986</td>\n",
       "      <td>12</td>\n",
       "      <td>42</td>\n",
       "      <td>14</td>\n",
       "      <td>1</td>\n",
       "      <td>1</td>\n",
       "      <td>180</td>\n",
       "      <td>138</td>\n",
       "    </tr>\n",
       "    <tr>\n",
       "      <th>1</th>\n",
       "      <td>89199</td>\n",
       "      <td>11278</td>\n",
       "      <td>34</td>\n",
       "      <td>115</td>\n",
       "      <td>14</td>\n",
       "      <td>1</td>\n",
       "      <td>1</td>\n",
       "      <td>230</td>\n",
       "      <td>840</td>\n",
       "    </tr>\n",
       "    <tr>\n",
       "      <th>2</th>\n",
       "      <td>89200</td>\n",
       "      <td>17245</td>\n",
       "      <td>8</td>\n",
       "      <td>110</td>\n",
       "      <td>44</td>\n",
       "      <td>0</td>\n",
       "      <td>2</td>\n",
       "      <td>280</td>\n",
       "      <td>628</td>\n",
       "    </tr>\n",
       "    <tr>\n",
       "      <th>3</th>\n",
       "      <td>89201</td>\n",
       "      <td>9851</td>\n",
       "      <td>16</td>\n",
       "      <td>137</td>\n",
       "      <td>18</td>\n",
       "      <td>1</td>\n",
       "      <td>1</td>\n",
       "      <td>270</td>\n",
       "      <td>462</td>\n",
       "    </tr>\n",
       "    <tr>\n",
       "      <th>4</th>\n",
       "      <td>89202</td>\n",
       "      <td>16008</td>\n",
       "      <td>34</td>\n",
       "      <td>96</td>\n",
       "      <td>47</td>\n",
       "      <td>0</td>\n",
       "      <td>0</td>\n",
       "      <td>230</td>\n",
       "      <td>840</td>\n",
       "    </tr>\n",
       "  </tbody>\n",
       "</table>\n",
       "</div>"
      ],
      "text/plain": [
       "   row_id  user_id  category_id  video_id  age  gender  profession  followers  \\\n",
       "0   89198     7986           12        42   14       1           1        180   \n",
       "1   89199    11278           34       115   14       1           1        230   \n",
       "2   89200    17245            8       110   44       0           2        280   \n",
       "3   89201     9851           16       137   18       1           1        270   \n",
       "4   89202    16008           34        96   47       0           0        230   \n",
       "\n",
       "   views  \n",
       "0    138  \n",
       "1    840  \n",
       "2    628  \n",
       "3    462  \n",
       "4    840  "
      ]
     },
     "execution_count": 12,
     "metadata": {},
     "output_type": "execute_result"
    }
   ],
   "source": [
    "ddf1.head()"
   ]
  },
  {
   "cell_type": "code",
   "execution_count": 13,
   "metadata": {
    "id": "tnKvcwFLIZob"
   },
   "outputs": [],
   "source": [
    "ddf=ddf.drop(['video_id'],axis=1)"
   ]
  },
  {
   "cell_type": "code",
   "execution_count": 14,
   "metadata": {
    "id": "wfq8DHj6JO0p"
   },
   "outputs": [],
   "source": [
    "ddf1=ddf1.drop(['video_id'],axis=1)"
   ]
  },
  {
   "cell_type": "markdown",
   "metadata": {
    "id": "P-_fHxQLfVHt"
   },
   "source": [
    "Algorithms that doesn't need scaling"
   ]
  },
  {
   "cell_type": "code",
   "execution_count": 50,
   "metadata": {
    "id": "rivycK5hgi4C"
   },
   "outputs": [
    {
     "name": "stdout",
     "output_type": "stream",
     "text": [
      "[[19990    37    24 ...     1   180  1000]\n",
      " [ 5304    32    14 ...     1   330   714]\n",
      " [ 1840    12    19 ...     1   180   138]\n",
      " ...\n",
      " [13655    16    25 ...     1   270   462]\n",
      " [24840     9    35 ...     2   230   819]\n",
      " [27183    25    13 ...     1   240   317]]\n"
     ]
    }
   ],
   "source": [
    "x = ddf.iloc[:, 1:-1].values\n",
    "y = ddf.iloc[:, -1].values\n",
    "print(X)"
   ]
  },
  {
   "cell_type": "code",
   "execution_count": 16,
   "metadata": {
    "id": "ziN4orrlfqpW"
   },
   "outputs": [],
   "source": [
    "# Splitting the data into training set and test set\n",
    "from sklearn.model_selection import train_test_split\n",
    "X_train, X_test, y_train, y_test = train_test_split(X, y,test_size = 0.2, random_state = 0)"
   ]
  },
  {
   "cell_type": "markdown",
   "metadata": {
    "id": "GPGM_DiTfmiW"
   },
   "source": [
    "1. Decision Tree"
   ]
  },
  {
   "cell_type": "code",
   "execution_count": 17,
   "metadata": {
    "colab": {
     "base_uri": "https://localhost:8080/"
    },
    "id": "pK9HGDdefqfX",
    "outputId": "d299aa3a-4f1c-466e-c84f-8f19f7dd885a"
   },
   "outputs": [
    {
     "data": {
      "text/plain": [
       "DecisionTreeRegressor(random_state=0)"
      ]
     },
     "execution_count": 17,
     "metadata": {},
     "output_type": "execute_result"
    }
   ],
   "source": [
    "#Training the Decision Tree Regression model on the Training set\n",
    "from sklearn.tree import DecisionTreeRegressor\n",
    "regressor = DecisionTreeRegressor(random_state = 0)\n",
    "regressor.fit(X_train, y_train)"
   ]
  },
  {
   "cell_type": "code",
   "execution_count": 18,
   "metadata": {
    "colab": {
     "base_uri": "https://localhost:8080/"
    },
    "id": "U0qMHaHdjv-e",
    "outputId": "d3bf7829-82fb-4394-ac54-d8d5c540635f"
   },
   "outputs": [
    {
     "name": "stdout",
     "output_type": "stream",
     "text": [
      "[[4.23 3.91]\n",
      " [3.76 3.61]\n",
      " [3.11 3.56]\n",
      " ...\n",
      " [4.79 3.73]\n",
      " [3.77 3.7 ]\n",
      " [3.33 3.71]]\n"
     ]
    }
   ],
   "source": [
    "#Predicting the Test set results\n",
    "y_pred = regressor.predict(X_test)\n",
    "np.set_printoptions(precision=2)\n",
    "print(np.concatenate((y_pred.reshape(len(y_pred),1), y_test.reshape(len(y_test),1)),1))"
   ]
  },
  {
   "cell_type": "code",
   "execution_count": 19,
   "metadata": {
    "colab": {
     "base_uri": "https://localhost:8080/"
    },
    "id": "QGdsRgV2jvx6",
    "outputId": "0a450a93-9d9a-48f2-a874-ef3dde1937ac"
   },
   "outputs": [
    {
     "data": {
      "text/plain": [
       "0.24586342708016518"
      ]
     },
     "execution_count": 19,
     "metadata": {},
     "output_type": "execute_result"
    }
   ],
   "source": [
    "#Evaluating the model performance\n",
    "from sklearn.metrics import r2_score\n",
    "r2_score(y_test, y_pred)"
   ]
  },
  {
   "cell_type": "markdown",
   "metadata": {
    "id": "mSHl7RGvfr-s"
   },
   "source": [
    "2. Random Forest"
   ]
  },
  {
   "cell_type": "code",
   "execution_count": 20,
   "metadata": {
    "colab": {
     "base_uri": "https://localhost:8080/"
    },
    "id": "k_XrVuLEfiEx",
    "outputId": "76bdf5ee-c04e-4577-eab0-14721d9060b0"
   },
   "outputs": [
    {
     "data": {
      "text/plain": [
       "RandomForestRegressor(n_estimators=1000, random_state=0)"
      ]
     },
     "execution_count": 20,
     "metadata": {},
     "output_type": "execute_result"
    }
   ],
   "source": [
    "#Training the Random Forest Regression model on the whole dataset\n",
    "from sklearn.ensemble import RandomForestRegressor\n",
    "regressor = RandomForestRegressor(n_estimators = 1000, random_state = 0)\n",
    "regressor.fit(X_train, y_train)"
   ]
  },
  {
   "cell_type": "code",
   "execution_count": 21,
   "metadata": {
    "colab": {
     "base_uri": "https://localhost:8080/"
    },
    "id": "L5Ud8deRki1a",
    "outputId": "257989e1-2319-41fa-ce74-f97754a18e41"
   },
   "outputs": [
    {
     "name": "stdout",
     "output_type": "stream",
     "text": [
      "[[4.18 3.91]\n",
      " [3.59 3.61]\n",
      " [3.75 3.56]\n",
      " ...\n",
      " [4.5  3.73]\n",
      " [3.89 3.7 ]\n",
      " [3.54 3.71]]\n"
     ]
    }
   ],
   "source": [
    "#Predicting the Test set results\n",
    "y_pred = regressor.predict(X_test)\n",
    "np.set_printoptions(precision=2)\n",
    "print(np.concatenate((y_pred.reshape(len(y_pred),1), y_test.reshape(len(y_test),1)),1))"
   ]
  },
  {
   "cell_type": "code",
   "execution_count": 22,
   "metadata": {
    "colab": {
     "base_uri": "https://localhost:8080/"
    },
    "id": "hPCFQRhxkidQ",
    "outputId": "e0acce4f-9f50-4b3d-e9e9-ad8c0355cf39"
   },
   "outputs": [
    {
     "data": {
      "text/plain": [
       "0.45311773490445784"
      ]
     },
     "execution_count": 22,
     "metadata": {},
     "output_type": "execute_result"
    }
   ],
   "source": [
    "#Evaluating the Model Performance\n",
    "from sklearn.metrics import r2_score\n",
    "r2_score(y_test, y_pred)"
   ]
  },
  {
   "cell_type": "markdown",
   "metadata": {
    "id": "sQ13oStF3GHy"
   },
   "source": [
    "3.GBM"
   ]
  },
  {
   "cell_type": "code",
   "execution_count": 23,
   "metadata": {
    "colab": {
     "base_uri": "https://localhost:8080/"
    },
    "id": "i7H9hXNW3I1a",
    "outputId": "008abba3-9840-427a-c9dd-3e0ba6a21139"
   },
   "outputs": [
    {
     "data": {
      "text/plain": [
       "GradientBoostingRegressor(learning_rate=0.05, max_depth=10, min_samples_split=4,\n",
       "                          n_estimators=1000, random_state=0)"
      ]
     },
     "execution_count": 23,
     "metadata": {},
     "output_type": "execute_result"
    }
   ],
   "source": [
    "from sklearn.ensemble import GradientBoostingRegressor\n",
    "regressor = GradientBoostingRegressor(n_estimators= 1000,max_depth=10,min_samples_split= 4,learning_rate= 0.05,random_state=0)\n",
    "regressor.fit(X_train, y_train)"
   ]
  },
  {
   "cell_type": "code",
   "execution_count": 24,
   "metadata": {
    "colab": {
     "base_uri": "https://localhost:8080/"
    },
    "id": "y1VLR2w73uxt",
    "outputId": "3f1fad9c-6458-4a6f-bf8a-cb4fae97fb2c"
   },
   "outputs": [
    {
     "name": "stdout",
     "output_type": "stream",
     "text": [
      "[[4.14 3.91]\n",
      " [3.48 3.61]\n",
      " [3.23 3.56]\n",
      " ...\n",
      " [4.2  3.73]\n",
      " [3.89 3.7 ]\n",
      " [3.74 3.71]]\n"
     ]
    }
   ],
   "source": [
    "#Predicting the Test set results\n",
    "y_pred = regressor.predict(X_test)\n",
    "np.set_printoptions(precision=2)\n",
    "print(np.concatenate((y_pred.reshape(len(y_pred),1), y_test.reshape(len(y_test),1)),1))"
   ]
  },
  {
   "cell_type": "code",
   "execution_count": 25,
   "metadata": {
    "colab": {
     "base_uri": "https://localhost:8080/"
    },
    "id": "Zz6DL7d33xmr",
    "outputId": "874c71a5-6322-4353-bed4-c303ec9bcd56"
   },
   "outputs": [
    {
     "data": {
      "text/plain": [
       "0.45902174570767684"
      ]
     },
     "execution_count": 25,
     "metadata": {},
     "output_type": "execute_result"
    }
   ],
   "source": [
    "#Evaluating the Model Performance\n",
    "from sklearn.metrics import r2_score\n",
    "r2_score(y_test, y_pred)"
   ]
  },
  {
   "cell_type": "markdown",
   "metadata": {
    "id": "0qz3xeZkmwkt"
   },
   "source": [
    "Scaling data for other algorithms"
   ]
  },
  {
   "cell_type": "code",
   "execution_count": 26,
   "metadata": {
    "id": "--Ko3dZzkiTH"
   },
   "outputs": [],
   "source": [
    "from sklearn.preprocessing import StandardScaler\n",
    "sc = StandardScaler()\n",
    "X_train = sc.fit_transform(X_train)\n",
    "X_test = sc.transform(X_test)"
   ]
  },
  {
   "cell_type": "markdown",
   "metadata": {
    "id": "U8IYkp6y4iIj"
   },
   "source": [
    "3.Linear Regression"
   ]
  },
  {
   "cell_type": "code",
   "execution_count": 27,
   "metadata": {
    "colab": {
     "base_uri": "https://localhost:8080/"
    },
    "id": "7DhjpVqZkiJR",
    "outputId": "fc74f631-7fa7-4813-d86e-01d803bdd7ea"
   },
   "outputs": [
    {
     "data": {
      "text/plain": [
       "LinearRegression()"
      ]
     },
     "execution_count": 27,
     "metadata": {},
     "output_type": "execute_result"
    }
   ],
   "source": [
    "from sklearn.linear_model import LinearRegression\n",
    "regressor = LinearRegression()\n",
    "regressor.fit(X_train, y_train)"
   ]
  },
  {
   "cell_type": "code",
   "execution_count": 28,
   "metadata": {
    "colab": {
     "base_uri": "https://localhost:8080/"
    },
    "id": "EPXJ2I9M4R4A",
    "outputId": "6ddc9640-fa53-498e-b396-c91fa40d79bd"
   },
   "outputs": [
    {
     "name": "stdout",
     "output_type": "stream",
     "text": [
      "[[3.51 3.91]\n",
      " [3.05 3.61]\n",
      " [3.3  3.56]\n",
      " ...\n",
      " [3.93 3.73]\n",
      " [3.68 3.7 ]\n",
      " [3.77 3.71]]\n"
     ]
    }
   ],
   "source": [
    "y_pred = regressor.predict(X_test)\n",
    "np.set_printoptions(precision=2)\n",
    "print(np.concatenate((y_pred.reshape(len(y_pred),1), y_test.reshape(len(y_test),1)),1))"
   ]
  },
  {
   "cell_type": "code",
   "execution_count": 29,
   "metadata": {
    "colab": {
     "base_uri": "https://localhost:8080/"
    },
    "id": "ilsJcEBV4eg6",
    "outputId": "852c3c6a-d256-4cfc-e1bf-645226c0c9c8"
   },
   "outputs": [
    {
     "data": {
      "text/plain": [
       "0.24150449719173794"
      ]
     },
     "execution_count": 29,
     "metadata": {},
     "output_type": "execute_result"
    }
   ],
   "source": [
    "from sklearn.metrics import r2_score\n",
    "r2_score(y_test, y_pred)"
   ]
  },
  {
   "cell_type": "markdown",
   "metadata": {
    "id": "qONs-FSS4vWO"
   },
   "source": [
    "4.Polynomial regression"
   ]
  },
  {
   "cell_type": "code",
   "execution_count": 30,
   "metadata": {
    "colab": {
     "base_uri": "https://localhost:8080/"
    },
    "id": "9HGkGBUs40_7",
    "outputId": "ae2660ee-10a2-4b61-861a-d88318fb9353"
   },
   "outputs": [
    {
     "data": {
      "text/plain": [
       "LinearRegression()"
      ]
     },
     "execution_count": 30,
     "metadata": {},
     "output_type": "execute_result"
    }
   ],
   "source": [
    "from sklearn.preprocessing import PolynomialFeatures\n",
    "from sklearn.linear_model import LinearRegression\n",
    "poly_reg = PolynomialFeatures(degree = 6)\n",
    "X_poly = poly_reg.fit_transform(X_train)\n",
    "regressor = LinearRegression()\n",
    "regressor.fit(X_poly, y_train)"
   ]
  },
  {
   "cell_type": "code",
   "execution_count": 31,
   "metadata": {
    "colab": {
     "base_uri": "https://localhost:8080/"
    },
    "id": "fYfgba1Z5Xza",
    "outputId": "bc7aef40-27c1-421f-e01b-cc283628e601"
   },
   "outputs": [
    {
     "name": "stdout",
     "output_type": "stream",
     "text": [
      "[[3.93 3.91]\n",
      " [2.75 3.61]\n",
      " [2.85 3.56]\n",
      " ...\n",
      " [4.16 3.73]\n",
      " [3.99 3.7 ]\n",
      " [3.58 3.71]]\n"
     ]
    }
   ],
   "source": [
    "y_pred = regressor.predict(poly_reg.transform(X_test))\n",
    "np.set_printoptions(precision=2)\n",
    "print(np.concatenate((y_pred.reshape(len(y_pred),1), y_test.reshape(len(y_test),1)),1))"
   ]
  },
  {
   "cell_type": "code",
   "execution_count": 32,
   "metadata": {
    "colab": {
     "base_uri": "https://localhost:8080/"
    },
    "id": "N_DH8j-j5Z9K",
    "outputId": "22bd2d50-e7d9-470d-f11e-77b88db7dee6"
   },
   "outputs": [
    {
     "data": {
      "text/plain": [
       "0.35368257245623336"
      ]
     },
     "execution_count": 32,
     "metadata": {},
     "output_type": "execute_result"
    }
   ],
   "source": [
    "from sklearn.metrics import r2_score\n",
    "r2_score(y_test, y_pred)"
   ]
  },
  {
   "cell_type": "markdown",
   "metadata": {
    "id": "-U8CA7feaDPh"
   },
   "source": [
    "Utilizing Training data to only train and test data for testing purpose"
   ]
  },
  {
   "cell_type": "code",
   "execution_count": 33,
   "metadata": {
    "colab": {
     "base_uri": "https://localhost:8080/",
     "height": 206
    },
    "id": "_ya7smwLEgTY",
    "outputId": "eca39fe4-f489-452e-d50c-321923ebbbb3"
   },
   "outputs": [
    {
     "data": {
      "text/html": [
       "<div>\n",
       "<style scoped>\n",
       "    .dataframe tbody tr th:only-of-type {\n",
       "        vertical-align: middle;\n",
       "    }\n",
       "\n",
       "    .dataframe tbody tr th {\n",
       "        vertical-align: top;\n",
       "    }\n",
       "\n",
       "    .dataframe thead th {\n",
       "        text-align: right;\n",
       "    }\n",
       "</style>\n",
       "<table border=\"1\" class=\"dataframe\">\n",
       "  <thead>\n",
       "    <tr style=\"text-align: right;\">\n",
       "      <th></th>\n",
       "      <th>row_id</th>\n",
       "      <th>user_id</th>\n",
       "      <th>category_id</th>\n",
       "      <th>age</th>\n",
       "      <th>gender</th>\n",
       "      <th>profession</th>\n",
       "      <th>followers</th>\n",
       "      <th>views</th>\n",
       "    </tr>\n",
       "  </thead>\n",
       "  <tbody>\n",
       "    <tr>\n",
       "      <th>0</th>\n",
       "      <td>89198</td>\n",
       "      <td>7986</td>\n",
       "      <td>12</td>\n",
       "      <td>14</td>\n",
       "      <td>1</td>\n",
       "      <td>1</td>\n",
       "      <td>180</td>\n",
       "      <td>138</td>\n",
       "    </tr>\n",
       "    <tr>\n",
       "      <th>1</th>\n",
       "      <td>89199</td>\n",
       "      <td>11278</td>\n",
       "      <td>34</td>\n",
       "      <td>14</td>\n",
       "      <td>1</td>\n",
       "      <td>1</td>\n",
       "      <td>230</td>\n",
       "      <td>840</td>\n",
       "    </tr>\n",
       "    <tr>\n",
       "      <th>2</th>\n",
       "      <td>89200</td>\n",
       "      <td>17245</td>\n",
       "      <td>8</td>\n",
       "      <td>44</td>\n",
       "      <td>0</td>\n",
       "      <td>2</td>\n",
       "      <td>280</td>\n",
       "      <td>628</td>\n",
       "    </tr>\n",
       "    <tr>\n",
       "      <th>3</th>\n",
       "      <td>89201</td>\n",
       "      <td>9851</td>\n",
       "      <td>16</td>\n",
       "      <td>18</td>\n",
       "      <td>1</td>\n",
       "      <td>1</td>\n",
       "      <td>270</td>\n",
       "      <td>462</td>\n",
       "    </tr>\n",
       "    <tr>\n",
       "      <th>4</th>\n",
       "      <td>89202</td>\n",
       "      <td>16008</td>\n",
       "      <td>34</td>\n",
       "      <td>47</td>\n",
       "      <td>0</td>\n",
       "      <td>0</td>\n",
       "      <td>230</td>\n",
       "      <td>840</td>\n",
       "    </tr>\n",
       "  </tbody>\n",
       "</table>\n",
       "</div>"
      ],
      "text/plain": [
       "   row_id  user_id  category_id  age  gender  profession  followers  views\n",
       "0   89198     7986           12   14       1           1        180    138\n",
       "1   89199    11278           34   14       1           1        230    840\n",
       "2   89200    17245            8   44       0           2        280    628\n",
       "3   89201     9851           16   18       1           1        270    462\n",
       "4   89202    16008           34   47       0           0        230    840"
      ]
     },
     "execution_count": 33,
     "metadata": {},
     "output_type": "execute_result"
    }
   ],
   "source": [
    "ddf1.head()"
   ]
  },
  {
   "cell_type": "code",
   "execution_count": 34,
   "metadata": {
    "id": "VF5tSNwnaPf0"
   },
   "outputs": [],
   "source": [
    "#Implementing Random Forest\n",
    "# storing required test data value in variable w\n",
    "\n",
    "w=ddf1.iloc[:,1:].values"
   ]
  },
  {
   "cell_type": "code",
   "execution_count": 35,
   "metadata": {
    "colab": {
     "base_uri": "https://localhost:8080/",
     "height": 206
    },
    "id": "78Pfox8XMUpC",
    "outputId": "21aba622-6a52-4293-9fde-11e4db7bb4ec"
   },
   "outputs": [
    {
     "data": {
      "text/html": [
       "<div>\n",
       "<style scoped>\n",
       "    .dataframe tbody tr th:only-of-type {\n",
       "        vertical-align: middle;\n",
       "    }\n",
       "\n",
       "    .dataframe tbody tr th {\n",
       "        vertical-align: top;\n",
       "    }\n",
       "\n",
       "    .dataframe thead th {\n",
       "        text-align: right;\n",
       "    }\n",
       "</style>\n",
       "<table border=\"1\" class=\"dataframe\">\n",
       "  <thead>\n",
       "    <tr style=\"text-align: right;\">\n",
       "      <th></th>\n",
       "      <th>row_id</th>\n",
       "      <th>user_id</th>\n",
       "      <th>category_id</th>\n",
       "      <th>age</th>\n",
       "      <th>gender</th>\n",
       "      <th>profession</th>\n",
       "      <th>followers</th>\n",
       "      <th>views</th>\n",
       "    </tr>\n",
       "  </thead>\n",
       "  <tbody>\n",
       "    <tr>\n",
       "      <th>0</th>\n",
       "      <td>89198</td>\n",
       "      <td>7986</td>\n",
       "      <td>12</td>\n",
       "      <td>14</td>\n",
       "      <td>1</td>\n",
       "      <td>1</td>\n",
       "      <td>180</td>\n",
       "      <td>138</td>\n",
       "    </tr>\n",
       "    <tr>\n",
       "      <th>1</th>\n",
       "      <td>89199</td>\n",
       "      <td>11278</td>\n",
       "      <td>34</td>\n",
       "      <td>14</td>\n",
       "      <td>1</td>\n",
       "      <td>1</td>\n",
       "      <td>230</td>\n",
       "      <td>840</td>\n",
       "    </tr>\n",
       "    <tr>\n",
       "      <th>2</th>\n",
       "      <td>89200</td>\n",
       "      <td>17245</td>\n",
       "      <td>8</td>\n",
       "      <td>44</td>\n",
       "      <td>0</td>\n",
       "      <td>2</td>\n",
       "      <td>280</td>\n",
       "      <td>628</td>\n",
       "    </tr>\n",
       "    <tr>\n",
       "      <th>3</th>\n",
       "      <td>89201</td>\n",
       "      <td>9851</td>\n",
       "      <td>16</td>\n",
       "      <td>18</td>\n",
       "      <td>1</td>\n",
       "      <td>1</td>\n",
       "      <td>270</td>\n",
       "      <td>462</td>\n",
       "    </tr>\n",
       "    <tr>\n",
       "      <th>4</th>\n",
       "      <td>89202</td>\n",
       "      <td>16008</td>\n",
       "      <td>34</td>\n",
       "      <td>47</td>\n",
       "      <td>0</td>\n",
       "      <td>0</td>\n",
       "      <td>230</td>\n",
       "      <td>840</td>\n",
       "    </tr>\n",
       "  </tbody>\n",
       "</table>\n",
       "</div>"
      ],
      "text/plain": [
       "   row_id  user_id  category_id  age  gender  profession  followers  views\n",
       "0   89198     7986           12   14       1           1        180    138\n",
       "1   89199    11278           34   14       1           1        230    840\n",
       "2   89200    17245            8   44       0           2        280    628\n",
       "3   89201     9851           16   18       1           1        270    462\n",
       "4   89202    16008           34   47       0           0        230    840"
      ]
     },
     "execution_count": 35,
     "metadata": {},
     "output_type": "execute_result"
    }
   ],
   "source": [
    "ddf1.head()"
   ]
  },
  {
   "cell_type": "code",
   "execution_count": 36,
   "metadata": {
    "id": "bzOwUknAck9x"
   },
   "outputs": [],
   "source": [
    "# for training data\n",
    "X = ddf.iloc[:, 1:-1].values      \n",
    "y = ddf.iloc[:, -1].values "
   ]
  },
  {
   "cell_type": "code",
   "execution_count": 37,
   "metadata": {
    "colab": {
     "base_uri": "https://localhost:8080/"
    },
    "id": "sDXX1ea352t2",
    "outputId": "bad9d48b-b660-49a5-898c-cd44001eb048"
   },
   "outputs": [],
   "source": [
    "#from sklearn.ensemble import GradientBoostingRegressor\n",
    "#regressor = GradientBoostingRegressor(n_estimators= 1000,max_depth=10,min_samples_split= 4,learning_rate= 0.05,random_state=0)\n",
    "#regressor.fit(X, y)"
   ]
  },
  {
   "cell_type": "code",
   "execution_count": 38,
   "metadata": {
    "colab": {
     "base_uri": "https://localhost:8080/"
    },
    "id": "3jEscpaodFNZ",
    "outputId": "4454d00c-0350-4937-bdb0-e518162402de"
   },
   "outputs": [
    {
     "data": {
      "text/plain": [
       "RandomForestRegressor(n_estimators=1000, random_state=0)"
      ]
     },
     "execution_count": 38,
     "metadata": {},
     "output_type": "execute_result"
    }
   ],
   "source": [
    "from sklearn.ensemble import RandomForestRegressor\n",
    "regressor = RandomForestRegressor(n_estimators = 1000, random_state = 0)\n",
    "regressor.fit(X, y)"
   ]
  },
  {
   "cell_type": "code",
   "execution_count": 39,
   "metadata": {
    "id": "uloNiN2deD-x"
   },
   "outputs": [],
   "source": [
    "w_pred = regressor.predict(w)"
   ]
  },
  {
   "cell_type": "markdown",
   "metadata": {
    "id": "l9u9oXregRky"
   },
   "source": [
    "Adding column in test data showing predicted value"
   ]
  },
  {
   "cell_type": "code",
   "execution_count": 40,
   "metadata": {
    "id": "8oyNxRvhgY_T"
   },
   "outputs": [],
   "source": [
    "ddf1['engagement_score']=w_pred"
   ]
  },
  {
   "cell_type": "code",
   "execution_count": 41,
   "metadata": {
    "colab": {
     "base_uri": "https://localhost:8080/",
     "height": 206
    },
    "id": "AN2OEdHKgiVw",
    "outputId": "5d846557-b30e-4fb4-8e5f-e47f87516928"
   },
   "outputs": [
    {
     "data": {
      "text/html": [
       "<div>\n",
       "<style scoped>\n",
       "    .dataframe tbody tr th:only-of-type {\n",
       "        vertical-align: middle;\n",
       "    }\n",
       "\n",
       "    .dataframe tbody tr th {\n",
       "        vertical-align: top;\n",
       "    }\n",
       "\n",
       "    .dataframe thead th {\n",
       "        text-align: right;\n",
       "    }\n",
       "</style>\n",
       "<table border=\"1\" class=\"dataframe\">\n",
       "  <thead>\n",
       "    <tr style=\"text-align: right;\">\n",
       "      <th></th>\n",
       "      <th>row_id</th>\n",
       "      <th>user_id</th>\n",
       "      <th>category_id</th>\n",
       "      <th>age</th>\n",
       "      <th>gender</th>\n",
       "      <th>profession</th>\n",
       "      <th>followers</th>\n",
       "      <th>views</th>\n",
       "      <th>engagement_score</th>\n",
       "    </tr>\n",
       "  </thead>\n",
       "  <tbody>\n",
       "    <tr>\n",
       "      <th>0</th>\n",
       "      <td>89198</td>\n",
       "      <td>7986</td>\n",
       "      <td>12</td>\n",
       "      <td>14</td>\n",
       "      <td>1</td>\n",
       "      <td>1</td>\n",
       "      <td>180</td>\n",
       "      <td>138</td>\n",
       "      <td>4.155828</td>\n",
       "    </tr>\n",
       "    <tr>\n",
       "      <th>1</th>\n",
       "      <td>89199</td>\n",
       "      <td>11278</td>\n",
       "      <td>34</td>\n",
       "      <td>14</td>\n",
       "      <td>1</td>\n",
       "      <td>1</td>\n",
       "      <td>230</td>\n",
       "      <td>840</td>\n",
       "      <td>3.931155</td>\n",
       "    </tr>\n",
       "    <tr>\n",
       "      <th>2</th>\n",
       "      <td>89200</td>\n",
       "      <td>17245</td>\n",
       "      <td>8</td>\n",
       "      <td>44</td>\n",
       "      <td>0</td>\n",
       "      <td>2</td>\n",
       "      <td>280</td>\n",
       "      <td>628</td>\n",
       "      <td>2.412659</td>\n",
       "    </tr>\n",
       "    <tr>\n",
       "      <th>3</th>\n",
       "      <td>89201</td>\n",
       "      <td>9851</td>\n",
       "      <td>16</td>\n",
       "      <td>18</td>\n",
       "      <td>1</td>\n",
       "      <td>1</td>\n",
       "      <td>270</td>\n",
       "      <td>462</td>\n",
       "      <td>2.947675</td>\n",
       "    </tr>\n",
       "    <tr>\n",
       "      <th>4</th>\n",
       "      <td>89202</td>\n",
       "      <td>16008</td>\n",
       "      <td>34</td>\n",
       "      <td>47</td>\n",
       "      <td>0</td>\n",
       "      <td>0</td>\n",
       "      <td>230</td>\n",
       "      <td>840</td>\n",
       "      <td>1.917361</td>\n",
       "    </tr>\n",
       "  </tbody>\n",
       "</table>\n",
       "</div>"
      ],
      "text/plain": [
       "   row_id  user_id  category_id  age  gender  profession  followers  views  \\\n",
       "0   89198     7986           12   14       1           1        180    138   \n",
       "1   89199    11278           34   14       1           1        230    840   \n",
       "2   89200    17245            8   44       0           2        280    628   \n",
       "3   89201     9851           16   18       1           1        270    462   \n",
       "4   89202    16008           34   47       0           0        230    840   \n",
       "\n",
       "   engagement_score  \n",
       "0          4.155828  \n",
       "1          3.931155  \n",
       "2          2.412659  \n",
       "3          2.947675  \n",
       "4          1.917361  "
      ]
     },
     "execution_count": 41,
     "metadata": {},
     "output_type": "execute_result"
    }
   ],
   "source": [
    "ddf1.head()"
   ]
  },
  {
   "cell_type": "markdown",
   "metadata": {
    "id": "EkR53CK0gqe8"
   },
   "source": [
    "Creating dataframe containing only row_id and engagement_score from ddf1"
   ]
  },
  {
   "cell_type": "code",
   "execution_count": 42,
   "metadata": {
    "id": "Q-mMWPymgpos"
   },
   "outputs": [],
   "source": [
    "finaldata=ddf1.filter(['row_id','engagement_score'],axis=1)"
   ]
  },
  {
   "cell_type": "code",
   "execution_count": 43,
   "metadata": {
    "colab": {
     "base_uri": "https://localhost:8080/",
     "height": 206
    },
    "id": "G3xlr-6TiZrg",
    "outputId": "2193deb5-25f2-4413-d95e-1c8f8f4f1b5a"
   },
   "outputs": [
    {
     "data": {
      "text/html": [
       "<div>\n",
       "<style scoped>\n",
       "    .dataframe tbody tr th:only-of-type {\n",
       "        vertical-align: middle;\n",
       "    }\n",
       "\n",
       "    .dataframe tbody tr th {\n",
       "        vertical-align: top;\n",
       "    }\n",
       "\n",
       "    .dataframe thead th {\n",
       "        text-align: right;\n",
       "    }\n",
       "</style>\n",
       "<table border=\"1\" class=\"dataframe\">\n",
       "  <thead>\n",
       "    <tr style=\"text-align: right;\">\n",
       "      <th></th>\n",
       "      <th>row_id</th>\n",
       "      <th>engagement_score</th>\n",
       "    </tr>\n",
       "  </thead>\n",
       "  <tbody>\n",
       "    <tr>\n",
       "      <th>0</th>\n",
       "      <td>89198</td>\n",
       "      <td>4.155828</td>\n",
       "    </tr>\n",
       "    <tr>\n",
       "      <th>1</th>\n",
       "      <td>89199</td>\n",
       "      <td>3.931155</td>\n",
       "    </tr>\n",
       "    <tr>\n",
       "      <th>2</th>\n",
       "      <td>89200</td>\n",
       "      <td>2.412659</td>\n",
       "    </tr>\n",
       "    <tr>\n",
       "      <th>3</th>\n",
       "      <td>89201</td>\n",
       "      <td>2.947675</td>\n",
       "    </tr>\n",
       "    <tr>\n",
       "      <th>4</th>\n",
       "      <td>89202</td>\n",
       "      <td>1.917361</td>\n",
       "    </tr>\n",
       "  </tbody>\n",
       "</table>\n",
       "</div>"
      ],
      "text/plain": [
       "   row_id  engagement_score\n",
       "0   89198          4.155828\n",
       "1   89199          3.931155\n",
       "2   89200          2.412659\n",
       "3   89201          2.947675\n",
       "4   89202          1.917361"
      ]
     },
     "execution_count": 43,
     "metadata": {},
     "output_type": "execute_result"
    }
   ],
   "source": [
    "finaldata.head()"
   ]
  },
  {
   "cell_type": "markdown",
   "metadata": {
    "id": "k78fkZFGoQjN"
   },
   "source": [
    "Updating result dataset into drive"
   ]
  },
  {
   "cell_type": "code",
   "execution_count": 44,
   "metadata": {
    "id": "M0II6CQOoPZ8"
   },
   "outputs": [],
   "source": [
    "finaldata.to_csv('result3.csv', encoding='utf-8', index=False)\n",
    "#!cp rfhackathon_results.csv \"/content/drive/MyDrive/avhackathon\""
   ]
  }
 ],
 "metadata": {
  "colab": {
   "name": "hackathoncode.ipynb",
   "provenance": []
  },
  "kernelspec": {
   "display_name": "Python 3",
   "language": "python",
   "name": "python3"
  },
  "language_info": {
   "codemirror_mode": {
    "name": "ipython",
    "version": 3
   },
   "file_extension": ".py",
   "mimetype": "text/x-python",
   "name": "python",
   "nbconvert_exporter": "python",
   "pygments_lexer": "ipython3",
   "version": "3.8.3"
  }
 },
 "nbformat": 4,
 "nbformat_minor": 1
}
